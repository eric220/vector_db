{
 "cells": [
  {
   "cell_type": "code",
   "execution_count": 1,
   "id": "37483a86-f506-4127-a1d1-f221606ab5aa",
   "metadata": {},
   "outputs": [],
   "source": [
    "from chromadb.utils.embedding_functions.onnx_mini_lm_l6_v2 import ONNXMiniLM_L6_V2 # this is how you import in Chroma 0.5.0+\n",
    "# from chromadb.utils.embedding_functions import ONNXMiniLM_L6_V2 # legacy import for Chroma <=0.4.24\n",
    "ef = ONNXMiniLM_L6_V2(preferred_providers=[\"CPUExecutionProvider\"])\n",
    "import chromadb\n",
    "import pandas as pd"
   ]
  },
  {
   "cell_type": "code",
   "execution_count": 2,
   "id": "0cf09919",
   "metadata": {},
   "outputs": [
    {
     "data": {
      "text/html": [
       "<div>\n",
       "<style scoped>\n",
       "    .dataframe tbody tr th:only-of-type {\n",
       "        vertical-align: middle;\n",
       "    }\n",
       "\n",
       "    .dataframe tbody tr th {\n",
       "        vertical-align: top;\n",
       "    }\n",
       "\n",
       "    .dataframe thead th {\n",
       "        text-align: right;\n",
       "    }\n",
       "</style>\n",
       "<table border=\"1\" class=\"dataframe\">\n",
       "  <thead>\n",
       "    <tr style=\"text-align: right;\">\n",
       "      <th></th>\n",
       "      <th>faq</th>\n",
       "      <th>ada_embedding</th>\n",
       "    </tr>\n",
       "  </thead>\n",
       "  <tbody>\n",
       "    <tr>\n",
       "      <th>0</th>\n",
       "      <td>FAQ (Please read before asking questions in th...</td>\n",
       "      <td>[-0.09391320496797562, -0.08585827052593231, -...</td>\n",
       "    </tr>\n",
       "    <tr>\n",
       "      <th>1</th>\n",
       "      <td>Please only use Chrome for this project. Unfor...</td>\n",
       "      <td>[-0.07476626336574554, -0.12030570954084396, -...</td>\n",
       "    </tr>\n",
       "    <tr>\n",
       "      <th>2</th>\n",
       "      <td>UPDATE (3/05/2024)\\nThe instructions have been...</td>\n",
       "      <td>[-0.04701472446322441, -0.11009925603866577, -...</td>\n",
       "    </tr>\n",
       "    <tr>\n",
       "      <th>3</th>\n",
       "      <td>Minor errors are fine as you get acclimated to...</td>\n",
       "      <td>[0.004953151568770409, 0.01421600952744484, -0...</td>\n",
       "    </tr>\n",
       "    <tr>\n",
       "      <th>4</th>\n",
       "      <td>Please focus on multi-turn conversations with ...</td>\n",
       "      <td>[-0.02130229026079178, 0.024433419108390808, -...</td>\n",
       "    </tr>\n",
       "  </tbody>\n",
       "</table>\n",
       "</div>"
      ],
      "text/plain": [
       "                                                 faq  \\\n",
       "0  FAQ (Please read before asking questions in th...   \n",
       "1  Please only use Chrome for this project. Unfor...   \n",
       "2  UPDATE (3/05/2024)\\nThe instructions have been...   \n",
       "3  Minor errors are fine as you get acclimated to...   \n",
       "4  Please focus on multi-turn conversations with ...   \n",
       "\n",
       "                                       ada_embedding  \n",
       "0  [-0.09391320496797562, -0.08585827052593231, -...  \n",
       "1  [-0.07476626336574554, -0.12030570954084396, -...  \n",
       "2  [-0.04701472446322441, -0.11009925603866577, -...  \n",
       "3  [0.004953151568770409, 0.01421600952744484, -0...  \n",
       "4  [-0.02130229026079178, 0.024433419108390808, -...  "
      ]
     },
     "execution_count": 2,
     "metadata": {},
     "output_type": "execute_result"
    }
   ],
   "source": [
    "df = pd.read_csv('data/raw/faq_w_embeddings.csv')\n",
    "df.head()"
   ]
  },
  {
   "cell_type": "code",
   "execution_count": 3,
   "id": "cdaee125-2ba8-4ce9-be9d-011ec29be7bb",
   "metadata": {},
   "outputs": [],
   "source": [
    "client = chromadb.Client()\n",
    "collection = client.get_or_create_collection(\"faq_embeddings\", embedding_function=ef)\n",
    "collection.upsert(\n",
    "    documents=list(df.faq.values),\n",
    "    ids=list(df.index.values.astype(str))\n",
    ")"
   ]
  },
  {
   "cell_type": "code",
   "execution_count": 4,
   "id": "9b3c1709",
   "metadata": {},
   "outputs": [
    {
     "name": "stdout",
     "output_type": "stream",
     "text": [
      "{'ids': [['36', '3', '0']], 'embeddings': None, 'documents': [[\"I always just edit the coding instructions and forego the output to the user since it's not usually as important to the process. If the instructions don't mention it explicitly I believe it's ok to take liberty and do what you think makes the most sense. @Jim's approach is good too, maybe I'll try that next time.\", \"Minor errors are fine as you get acclimated to the instructions, but we do not expect to see blatant errors that indicate that you haven't read the instructions. Some examples are: not editing when necessary, such as when the models don't print head() and info() in the first Code Generation response of the conversation; selecting planning instruction responses that contain code/code snippets; submitting conversations in the middle of unfinished turns before the models arrive at a final answer (this does not apply to conversations that stalled/broke or hit the message limit).\", \"FAQ (Please read before asking questions in the chat)\\nPlease read the full instructions (even if you've worked on this project before). You can log time for doing so. Note that the instructions are the same for all versions of this project. The only difference is the models that are being used.\"]], 'uris': None, 'data': None, 'metadatas': [[None, None, None]], 'distances': [[1.3193132877349854, 1.3400108814239502, 1.4665594100952148]], 'included': [<IncludeEnum.distances: 'distances'>, <IncludeEnum.documents: 'documents'>, <IncludeEnum.metadatas: 'metadatas'>]}\n"
     ]
    }
   ],
   "source": [
    "results = collection.query(\n",
    "    query_texts=[\"Do i get paid for reading the instructions\"], # Chroma will embed this for you\n",
    "    n_results=3 # how many results to return\n",
    ")\n",
    "print(results)"
   ]
  },
  {
   "cell_type": "code",
   "execution_count": 5,
   "id": "3fea3625",
   "metadata": {},
   "outputs": [
    {
     "name": "stdout",
     "output_type": "stream",
     "text": [
      "{'ids': [['31', '0', '15']], 'embeddings': None, 'documents': [['Use your own, separate timer for tracking payment. The timer on the screen is more related to how Data Annotation assigns tasks to different users.', \"FAQ (Please read before asking questions in the chat)\\nPlease read the full instructions (even if you've worked on this project before). You can log time for doing so. Note that the instructions are the same for all versions of this project. The only difference is the models that are being used.\", 'For any issues that cause the conversation to stall or break in any way (meaning you\\'re unable to progress the conversation), please use the checkbox at the top of the ratings window and submit the conversation. If the submission crashes, and you\\'re unable to submit, you can still log your time for it. (We\\'re aware of a specific issue with the \"Next Message\" button and/or the \"Finalize Edits\" button becoming unresponsive in some instances after editing an error message.)']], 'uris': None, 'data': None, 'metadatas': [[None, None, None]], 'distances': [[1.2265186309814453, 1.3941519260406494, 1.611250638961792]], 'included': [<IncludeEnum.distances: 'distances'>, <IncludeEnum.documents: 'documents'>, <IncludeEnum.metadatas: 'metadatas'>]}\n"
     ]
    }
   ],
   "source": [
    "results = collection.query(\n",
    "    query_texts=[\"The onscreen timer doesnt work\"], # Chroma will embed this for you\n",
    "    n_results=3 # how many results to return\n",
    ")\n",
    "print(results)"
   ]
  },
  {
   "cell_type": "code",
   "execution_count": 6,
   "id": "fb704a41",
   "metadata": {},
   "outputs": [],
   "source": [
    "#chroma_client = chromadb.HttpClient(host='localhost', port=8000)"
   ]
  },
  {
   "cell_type": "code",
   "execution_count": null,
   "id": "15f5b81e-164d-437b-9c54-0f320971c279",
   "metadata": {},
   "outputs": [],
   "source": []
  }
 ],
 "metadata": {
  "kernelspec": {
   "display_name": "Python [conda env:chromadb] *",
   "language": "python",
   "name": "conda-env-chromadb-py"
  },
  "language_info": {
   "codemirror_mode": {
    "name": "ipython",
    "version": 3
   },
   "file_extension": ".py",
   "mimetype": "text/x-python",
   "name": "python",
   "nbconvert_exporter": "python",
   "pygments_lexer": "ipython3",
   "version": "3.10.15"
  }
 },
 "nbformat": 4,
 "nbformat_minor": 5
}
